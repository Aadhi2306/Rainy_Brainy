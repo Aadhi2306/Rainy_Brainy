{
 "cells": [
  {
   "cell_type": "code",
   "execution_count": null,
   "id": "instrumental-technical",
   "metadata": {
    "id": "instrumental-technical"
   },
   "outputs": [],
   "source": [
    "import numpy as np\n",
    "import pandas as pd\n",
    "import matplotlib.pyplot as plt\n",
    "import seaborn as sns\n",
    "from sklearn import preprocessing\n",
    "import scipy.stats as stats\n",
    "from sklearn.model_selection import train_test_split\n",
    "from collections import Counter\n",
    "from imblearn.over_sampling import SMOTE\n",
    "from sklearn.metrics import accuracy_score,confusion_matrix,classification_report\n",
    "from sklearn import metrics\n",
    "from sklearn.ensemble import RandomForestClassifier\n",
    "from catboost import CatBoostClassifier\n",
    "from xgboost import XGBClassifier\n",
    "from sklearn.svm import SVC\n",
    "from sklearn.linear_model import LogisticRegression\n",
    "from sklearn.naive_bayes import GaussianNB\n",
    "from sklearn.neighbors import KNeighborsClassifier\n",
    "import joblib"
   ]
  },
  {
   "cell_type": "code",
   "execution_count": null,
   "id": "modern-klein",
   "metadata": {
    "colab": {
     "base_uri": "https://localhost:8080/",
     "height": 590
    },
    "id": "modern-klein",
    "outputId": "15cd93a4-91c4-48b7-9c88-34d032de77a3"
   },
   "outputs": [],
   "source": [
    "df = pd.read_csv(\"preprocessed_2.csv\")\n",
    "pd.set_option(\"display.max_columns\", None)\n",
    "df"
   ]
  },
  {
   "cell_type": "code",
   "execution_count": null,
   "id": "informal-amount",
   "metadata": {},
   "outputs": [],
   "source": [
    "X = df.drop([\"RainTomorrow\"], axis=1)\n",
    "Y = df[\"RainTomorrow\"]"
   ]
  },
  {
   "cell_type": "code",
   "execution_count": null,
   "id": "moving-leather",
   "metadata": {
    "id": "moving-leather"
   },
   "outputs": [],
   "source": [
    "X_train, X_test, y_train, y_test = train_test_split(X,Y, test_size =0.2, stratify = Y, random_state = 0)"
   ]
  },
  {
   "cell_type": "code",
   "execution_count": null,
   "id": "fifth-continent",
   "metadata": {
    "colab": {
     "base_uri": "https://localhost:8080/"
    },
    "id": "fifth-continent",
    "outputId": "1d60467d-86b2-48b8-bf31-c7dcdc45ee68"
   },
   "outputs": [],
   "source": [
    "y_train"
   ]
  },
  {
   "cell_type": "code",
   "execution_count": null,
   "id": "julian-bidding",
   "metadata": {
    "colab": {
     "base_uri": "https://localhost:8080/"
    },
    "id": "julian-bidding",
    "outputId": "e5c33084-56a2-4ad2-93ae-6e3938cc509d"
   },
   "outputs": [],
   "source": [
    "sm=SMOTE(random_state=0)\n",
    "X_train_res, y_train_res = sm.fit_resample(X_train, y_train)\n",
    "print(\"The number of classes before fit {}\".format(Counter(y_train)))\n",
    "print(\"The number of classes after fit {}\".format(Counter(y_train_res)))"
   ]
  },
  {
   "cell_type": "code",
   "execution_count": null,
   "id": "running-joining",
   "metadata": {
    "colab": {
     "base_uri": "https://localhost:8080/"
    },
    "id": "running-joining",
    "outputId": "5efa36ae-7cbd-4f1e-da2a-2a88de3f431b"
   },
   "outputs": [],
   "source": [
    "cat = CatBoostClassifier(iterations=2000, eval_metric = \"AUC\")\n",
    "cat.fit(X_train_res, y_train_res)"
   ]
  },
  {
   "cell_type": "code",
   "execution_count": null,
   "id": "dependent-editor",
   "metadata": {
    "colab": {
     "base_uri": "https://localhost:8080/"
    },
    "id": "dependent-editor",
    "outputId": "93400096-eb60-4744-e940-3b62fba3c822"
   },
   "outputs": [],
   "source": [
    "y_pred = cat.predict(X_test)\n",
    "print(confusion_matrix(y_test,y_pred))\n",
    "print(accuracy_score(y_test,y_pred))\n",
    "print(classification_report(y_test,y_pred))"
   ]
  },
  {
   "cell_type": "code",
   "execution_count": null,
   "id": "q8Ujcbyc_UKA",
   "metadata": {
    "colab": {
     "base_uri": "https://localhost:8080/",
     "height": 296
    },
    "id": "q8Ujcbyc_UKA",
    "outputId": "21581f39-4d5b-4f7c-b61e-36613e67d6a3"
   },
   "outputs": [],
   "source": [
    "metrics.plot_roc_curve(cat, X_test, y_test)\n",
    "metrics.roc_auc_score(y_test, y_pred, average=None) "
   ]
  },
  {
   "cell_type": "code",
   "execution_count": null,
   "id": "bored-paraguay",
   "metadata": {
    "colab": {
     "base_uri": "https://localhost:8080/"
    },
    "id": "bored-paraguay",
    "outputId": "b697bf3e-0c99-4368-e543-a9589a78d71e"
   },
   "outputs": [],
   "source": [
    "rf=RandomForestClassifier()\n",
    "rf.fit(X_train_res,y_train_res)"
   ]
  },
  {
   "cell_type": "code",
   "execution_count": null,
   "id": "compact-poetry",
   "metadata": {
    "colab": {
     "base_uri": "https://localhost:8080/"
    },
    "id": "compact-poetry",
    "outputId": "4f8c9d7a-8e61-4639-b10c-50a9432778f4"
   },
   "outputs": [],
   "source": [
    "y_pred1 = rf.predict(X_test)\n",
    "print(confusion_matrix(y_test,y_pred1))\n",
    "print(accuracy_score(y_test,y_pred1))\n",
    "print(classification_report(y_test,y_pred1))"
   ]
  },
  {
   "cell_type": "code",
   "execution_count": null,
   "id": "1i6mevuy-aq2",
   "metadata": {
    "colab": {
     "base_uri": "https://localhost:8080/",
     "height": 296
    },
    "id": "1i6mevuy-aq2",
    "outputId": "d8dbc13a-533f-4bdd-9754-182ad08cf28d"
   },
   "outputs": [],
   "source": [
    "metrics.plot_roc_curve(rf, X_test, y_test)\n",
    "metrics.roc_auc_score(y_test, y_pred1, average=None) "
   ]
  },
  {
   "cell_type": "code",
   "execution_count": null,
   "id": "pEGFfVplBzDO",
   "metadata": {
    "colab": {
     "base_uri": "https://localhost:8080/"
    },
    "id": "pEGFfVplBzDO",
    "outputId": "e10018bb-19bf-414e-f324-1dbc0b5d50ca"
   },
   "outputs": [],
   "source": [
    "y_pred2 = logreg.predict(X_test)\n",
    "print(confusion_matrix(y_test,y_pred2))\n",
    "print(accuracy_score(y_test,y_pred2))\n",
    "print(classification_report(y_test,y_pred2))"
   ]
  },
  {
   "cell_type": "code",
   "execution_count": null,
   "id": "wtzSMSu1B8GX",
   "metadata": {
    "colab": {
     "base_uri": "https://localhost:8080/",
     "height": 296
    },
    "id": "wtzSMSu1B8GX",
    "outputId": "d77542a1-5cdc-4d1c-f3e4-ff1204db10c7"
   },
   "outputs": [],
   "source": [
    "metrics.plot_roc_curve(logreg, X_test, y_test)\n",
    "metrics.roc_auc_score(y_test, y_pred2, average=None) "
   ]
  },
  {
   "cell_type": "code",
   "execution_count": null,
   "id": "3g2CH3xYFaxk",
   "metadata": {
    "colab": {
     "base_uri": "https://localhost:8080/"
    },
    "id": "3g2CH3xYFaxk",
    "outputId": "e7de7101-c530-4aab-f57a-8eb5e4288fdb"
   },
   "outputs": [],
   "source": [
    "knn = KNeighborsClassifier(n_neighbors=3)\n",
    "knn.fit(X_train_res, y_train_res)"
   ]
  },
  {
   "cell_type": "code",
   "execution_count": null,
   "id": "__G42nPBFrDS",
   "metadata": {
    "colab": {
     "base_uri": "https://localhost:8080/"
    },
    "id": "__G42nPBFrDS",
    "outputId": "7d0b6f95-9f9d-4717-f461-e1eb8ea276fa"
   },
   "outputs": [],
   "source": [
    "y_pred4 = knn.predict(X_test)\n",
    "print(confusion_matrix(y_test,y_pred4))\n",
    "print(accuracy_score(y_test,y_pred4))\n",
    "print(classification_report(y_test,y_pred4))"
   ]
  },
  {
   "cell_type": "code",
   "execution_count": null,
   "id": "3S8HNxa6H5u-",
   "metadata": {
    "colab": {
     "base_uri": "https://localhost:8080/",
     "height": 296
    },
    "id": "3S8HNxa6H5u-",
    "outputId": "1abfef90-207c-420d-b082-d836702bd46e"
   },
   "outputs": [],
   "source": [
    "metrics.plot_roc_curve(knn, X_test, y_test)\n",
    "metrics.roc_auc_score(y_test, y_pred4, average=None) "
   ]
  },
  {
   "cell_type": "code",
   "execution_count": null,
   "id": "qk2FwpZnQuuP",
   "metadata": {
    "id": "qk2FwpZnQuuP"
   },
   "outputs": [],
   "source": [
    "joblib.dump(rf, \"rf.pkl\")\n",
    "joblib.dump(cat, \"cat.pkl\")\n",
    "joblib.dump(logreg, \"logreg.pkl\")\n",
    "joblib.dump(knn, \"knn.pkl\")"
   ]
  }
 ],
 "metadata": {
  "accelerator": "GPU",
  "colab": {
   "name": "Preprocessing.ipynb",
   "provenance": []
  },
  "kernelspec": {
   "display_name": "Python 3",
   "language": "python",
   "name": "python3"
  },
  "language_info": {
   "codemirror_mode": {
    "name": "ipython",
    "version": 3
   },
   "file_extension": ".py",
   "mimetype": "text/x-python",
   "name": "python",
   "nbconvert_exporter": "python",
   "pygments_lexer": "ipython3",
   "version": "3.11.1"
  }
 },
 "nbformat": 4,
 "nbformat_minor": 5
}
